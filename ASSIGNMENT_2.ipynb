{
  "nbformat": 4,
  "nbformat_minor": 0,
  "metadata": {
    "colab": {
      "name": "ASSIGNMENT-2",
      "provenance": [],
      "collapsed_sections": []
    },
    "kernelspec": {
      "name": "python3",
      "display_name": "Python 3"
    },
    "language_info": {
      "name": "python"
    }
  },
  "cells": [
    {
      "cell_type": "code",
      "metadata": {
        "id": "6r9GyTX9ph6J"
      },
      "source": [
        "#ASSIGNMENT-2:DATA VISUALIZATION USING PYTHON.\n",
        "#NAME:T.D.V.SIVASAI\n",
        "#EMAIL:dv.sivasai@gmail.com"
      ],
      "execution_count": 12,
      "outputs": []
    },
    {
      "cell_type": "code",
      "metadata": {
        "id": "15h0DmOpqulS"
      },
      "source": [
        "import matplotlib.pyplot as plt\n",
        "import numpy as np\n",
        "import pandas as pd\n",
        "%matplotlib inline\n",
        "import seaborn as sns\n",
        "from numpy.random import randn, randint, uniform, sample"
      ],
      "execution_count": 13,
      "outputs": []
    },
    {
      "cell_type": "code",
      "metadata": {
        "colab": {
          "base_uri": "https://localhost:8080/",
          "height": 977
        },
        "id": "iWrmbGZUq7sv",
        "outputId": "e144e256-02bb-4ba5-8d18-5d3764ae9f70"
      },
      "source": [
        "#Question 1:-Create a dataframe with 10 rows on random numbers and 4 columns, (columns labelled as a,b,c,d) and plot a bar chart.\n",
        "ss= pd.DataFrame(randn(10,4),columns=['a','b','c','d'])\n",
        "ss.plot(kind='bar',figsize=(13,13),grid=True)\n",
        "plt.title(\"BAR CHART\",color='b',size='25')\n",
        "ss"
      ],
      "execution_count": 14,
      "outputs": [
        {
          "output_type": "execute_result",
          "data": {
            "text/html": [
              "<div>\n",
              "<style scoped>\n",
              "    .dataframe tbody tr th:only-of-type {\n",
              "        vertical-align: middle;\n",
              "    }\n",
              "\n",
              "    .dataframe tbody tr th {\n",
              "        vertical-align: top;\n",
              "    }\n",
              "\n",
              "    .dataframe thead th {\n",
              "        text-align: right;\n",
              "    }\n",
              "</style>\n",
              "<table border=\"1\" class=\"dataframe\">\n",
              "  <thead>\n",
              "    <tr style=\"text-align: right;\">\n",
              "      <th></th>\n",
              "      <th>a</th>\n",
              "      <th>b</th>\n",
              "      <th>c</th>\n",
              "      <th>d</th>\n",
              "    </tr>\n",
              "  </thead>\n",
              "  <tbody>\n",
              "    <tr>\n",
              "      <th>0</th>\n",
              "      <td>-0.960185</td>\n",
              "      <td>-1.731929</td>\n",
              "      <td>-1.177089</td>\n",
              "      <td>0.480763</td>\n",
              "    </tr>\n",
              "    <tr>\n",
              "      <th>1</th>\n",
              "      <td>-1.127603</td>\n",
              "      <td>-0.111304</td>\n",
              "      <td>0.725519</td>\n",
              "      <td>-1.776460</td>\n",
              "    </tr>\n",
              "    <tr>\n",
              "      <th>2</th>\n",
              "      <td>-1.388119</td>\n",
              "      <td>-0.029137</td>\n",
              "      <td>-0.112499</td>\n",
              "      <td>-0.333217</td>\n",
              "    </tr>\n",
              "    <tr>\n",
              "      <th>3</th>\n",
              "      <td>0.373583</td>\n",
              "      <td>-0.276644</td>\n",
              "      <td>-1.755110</td>\n",
              "      <td>1.100374</td>\n",
              "    </tr>\n",
              "    <tr>\n",
              "      <th>4</th>\n",
              "      <td>-1.039167</td>\n",
              "      <td>-0.131135</td>\n",
              "      <td>0.464449</td>\n",
              "      <td>0.064692</td>\n",
              "    </tr>\n",
              "    <tr>\n",
              "      <th>5</th>\n",
              "      <td>0.392343</td>\n",
              "      <td>-0.482731</td>\n",
              "      <td>-1.557840</td>\n",
              "      <td>1.373828</td>\n",
              "    </tr>\n",
              "    <tr>\n",
              "      <th>6</th>\n",
              "      <td>0.823543</td>\n",
              "      <td>0.177157</td>\n",
              "      <td>0.283534</td>\n",
              "      <td>1.640476</td>\n",
              "    </tr>\n",
              "    <tr>\n",
              "      <th>7</th>\n",
              "      <td>-1.699930</td>\n",
              "      <td>-0.223717</td>\n",
              "      <td>0.608073</td>\n",
              "      <td>0.480664</td>\n",
              "    </tr>\n",
              "    <tr>\n",
              "      <th>8</th>\n",
              "      <td>0.989983</td>\n",
              "      <td>-2.068621</td>\n",
              "      <td>-0.340888</td>\n",
              "      <td>-2.031091</td>\n",
              "    </tr>\n",
              "    <tr>\n",
              "      <th>9</th>\n",
              "      <td>-0.833956</td>\n",
              "      <td>-0.107458</td>\n",
              "      <td>0.744437</td>\n",
              "      <td>-0.974117</td>\n",
              "    </tr>\n",
              "  </tbody>\n",
              "</table>\n",
              "</div>"
            ],
            "text/plain": [
              "          a         b         c         d\n",
              "0 -0.960185 -1.731929 -1.177089  0.480763\n",
              "1 -1.127603 -0.111304  0.725519 -1.776460\n",
              "2 -1.388119 -0.029137 -0.112499 -0.333217\n",
              "3  0.373583 -0.276644 -1.755110  1.100374\n",
              "4 -1.039167 -0.131135  0.464449  0.064692\n",
              "5  0.392343 -0.482731 -1.557840  1.373828\n",
              "6  0.823543  0.177157  0.283534  1.640476\n",
              "7 -1.699930 -0.223717  0.608073  0.480664\n",
              "8  0.989983 -2.068621 -0.340888 -2.031091\n",
              "9 -0.833956 -0.107458  0.744437 -0.974117"
            ]
          },
          "metadata": {
            "tags": []
          },
          "execution_count": 14
        },
        {
          "output_type": "display_data",
          "data": {
            "image/png": "[encoded data removed]",
            "text/plain": [
              "<Figure size 936x936 with 1 Axes>"
            ]
          },
          "metadata": {
            "tags": [],
            "needs_background": "light"
          }
        }
      ]
    },
    {
      "cell_type": "code",
      "metadata": {
        "id": "klQiyWeOykr1"
      },
      "source": [
        ""
      ],
      "execution_count": null,
      "outputs": []
    }
  ]
}